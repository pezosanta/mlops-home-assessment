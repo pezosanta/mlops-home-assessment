{
    "cells": [
        {
            "cell_type": "markdown",
            "source": [
                "# ML Ops project description\n",
                "\n",
                "You are working as an ML Ops Engineer in a multi-disciplinary product-oriented pod developing ML-based application.\n",
                "You have received this notebook from a Data Scientist.\n",
                "Your task is to prepare the model training code for being run in production environment.\n",
                "\n",
                "You will need to make reproducible the model training, testing and validation code from this notebook. You will also need to decide which parts of the notebook code are relevant.\n",
                "\n",
                "Please note that in this exercise fetching of the data from DB is mocked.\n",
                "\n",
                "What we would like to see:\n",
                "- code organised in a GitHub repository with README\n",
                "- GitHub action to assess the code quality\n",
                "- GitHub action to run the model training with validation in Docker container\n",
                "\n",
                "Extra points (if you have time) - either to be included as a discussion or implementation:\n",
                "- how to track and compare model training metrics across different training runs?\n",
                "- how to perform versioning of different models trained?\n",
                "- how to perform model deployment for real-time predictions serving?\n",
                "\n",
                "\n",
                "Please don't plan more than 3 hours for this exercise as we value your time."
            ],
            "metadata": {
                "id": "Gks-drxxorsw"
            }
        },
        {
            "cell_type": "markdown",
            "metadata": {
                "id": "zz30uKxAVcQR"
            },
            "source": [
                "# Project: Training an image Classifier\n"
            ]
        },
        {
            "cell_type": "markdown",
            "source": [
                "# 0. Prerequisites\n"
            ],
            "metadata": {
                "id": "_3ZeKaVKxUQO"
            }
        },
        {
            "cell_type": "code",
            "source": [
                "!pip install torchvision matplotlib"
            ],
            "metadata": {
                "colab": {
                    "base_uri": "https://localhost:8080/"
                },
                "id": "IndqKBnVxXak",
                "outputId": "4da142ef-c706-4c8b-d999-88c078a553b8"
            },
            "execution_count": null,
            "outputs": [
                {
                    "output_type": "stream",
                    "name": "stdout",
                    "text": [
                        "Requirement already satisfied: torchvision in /usr/local/lib/python3.10/dist-packages (0.17.1+cu121)\n",
                        "Requirement already satisfied: matplotlib in /usr/local/lib/python3.10/dist-packages (3.7.1)\n",
                        "Requirement already satisfied: numpy in /usr/local/lib/python3.10/dist-packages (from torchvision) (1.25.2)\n",
                        "Requirement already satisfied: torch==2.2.1 in /usr/local/lib/python3.10/dist-packages (from torchvision) (2.2.1+cu121)\n",
                        "Requirement already satisfied: pillow!=8.3.*,>=5.3.0 in /usr/local/lib/python3.10/dist-packages (from torchvision) (9.4.0)\n",
                        "Requirement already satisfied: filelock in /usr/local/lib/python3.10/dist-packages (from torch==2.2.1->torchvision) (3.13.1)\n",
                        "Requirement already satisfied: typing-extensions>=4.8.0 in /usr/local/lib/python3.10/dist-packages (from torch==2.2.1->torchvision) (4.10.0)\n",
                        "Requirement already satisfied: sympy in /usr/local/lib/python3.10/dist-packages (from torch==2.2.1->torchvision) (1.12)\n",
                        "Requirement already satisfied: networkx in /usr/local/lib/python3.10/dist-packages (from torch==2.2.1->torchvision) (3.2.1)\n",
                        "Requirement already satisfied: jinja2 in /usr/local/lib/python3.10/dist-packages (from torch==2.2.1->torchvision) (3.1.3)\n",
                        "Requirement already satisfied: fsspec in /usr/local/lib/python3.10/dist-packages (from torch==2.2.1->torchvision) (2023.6.0)\n",
                        "Collecting nvidia-cuda-nvrtc-cu12==12.1.105 (from torch==2.2.1->torchvision)\n",
                        "  Downloading nvidia_cuda_nvrtc_cu12-12.1.105-py3-none-manylinux1_x86_64.whl (23.7 MB)\n",
                        "\u001b[2K     \u001b[90m\u2501\u2501\u2501\u2501\u2501\u2501\u2501\u2501\u2501\u2501\u2501\u2501\u2501\u2501\u2501\u2501\u2501\u2501\u2501\u2501\u2501\u2501\u2501\u2501\u2501\u2501\u2501\u2501\u2501\u2501\u2501\u2501\u2501\u2501\u2501\u2501\u2501\u2501\u2501\u2501\u001b[0m \u001b[32m23.7/23.7 MB\u001b[0m \u001b[31m30.7 MB/s\u001b[0m eta \u001b[36m0:00:00\u001b[0m\n",
                        "\u001b[?25hCollecting nvidia-cuda-runtime-cu12==12.1.105 (from torch==2.2.1->torchvision)\n",
                        "  Downloading nvidia_cuda_runtime_cu12-12.1.105-py3-none-manylinux1_x86_64.whl (823 kB)\n",
                        "\u001b[2K     \u001b[90m\u2501\u2501\u2501\u2501\u2501\u2501\u2501\u2501\u2501\u2501\u2501\u2501\u2501\u2501\u2501\u2501\u2501\u2501\u2501\u2501\u2501\u2501\u2501\u2501\u2501\u2501\u2501\u2501\u2501\u2501\u2501\u2501\u2501\u2501\u2501\u2501\u2501\u2501\u2501\u2501\u001b[0m \u001b[32m823.6/823.6 kB\u001b[0m \u001b[31m31.6 MB/s\u001b[0m eta \u001b[36m0:00:00\u001b[0m\n",
                        "\u001b[?25hCollecting nvidia-cuda-cupti-cu12==12.1.105 (from torch==2.2.1->torchvision)\n",
                        "  Downloading nvidia_cuda_cupti_cu12-12.1.105-py3-none-manylinux1_x86_64.whl (14.1 MB)\n",
                        "\u001b[2K     \u001b[90m\u2501\u2501\u2501\u2501\u2501\u2501\u2501\u2501\u2501\u2501\u2501\u2501\u2501\u2501\u2501\u2501\u2501\u2501\u2501\u2501\u2501\u2501\u2501\u2501\u2501\u2501\u2501\u2501\u2501\u2501\u2501\u2501\u2501\u2501\u2501\u2501\u2501\u2501\u2501\u2501\u001b[0m \u001b[32m14.1/14.1 MB\u001b[0m \u001b[31m32.1 MB/s\u001b[0m eta \u001b[36m0:00:00\u001b[0m\n",
                        "\u001b[?25hCollecting nvidia-cudnn-cu12==8.9.2.26 (from torch==2.2.1->torchvision)\n",
                        "  Downloading nvidia_cudnn_cu12-8.9.2.26-py3-none-manylinux1_x86_64.whl (731.7 MB)\n",
                        "\u001b[2K     \u001b[90m\u2501\u2501\u2501\u2501\u2501\u2501\u2501\u2501\u2501\u2501\u2501\u2501\u2501\u2501\u2501\u2501\u2501\u2501\u2501\u2501\u2501\u2501\u2501\u2501\u2501\u2501\u2501\u2501\u2501\u2501\u2501\u2501\u2501\u2501\u2501\u2501\u2501\u2501\u2501\u2501\u001b[0m \u001b[32m731.7/731.7 MB\u001b[0m \u001b[31m834.8 kB/s\u001b[0m eta \u001b[36m0:00:00\u001b[0m\n",
                        "\u001b[?25hCollecting nvidia-cublas-cu12==12.1.3.1 (from torch==2.2.1->torchvision)\n",
                        "  Downloading nvidia_cublas_cu12-12.1.3.1-py3-none-manylinux1_x86_64.whl (410.6 MB)\n",
                        "\u001b[2K     \u001b[90m\u2501\u2501\u2501\u2501\u2501\u2501\u2501\u2501\u2501\u2501\u2501\u2501\u2501\u2501\u2501\u2501\u2501\u2501\u2501\u2501\u2501\u2501\u2501\u2501\u2501\u2501\u2501\u2501\u2501\u2501\u2501\u2501\u2501\u2501\u2501\u2501\u2501\u2501\u2501\u2501\u001b[0m \u001b[32m410.6/410.6 MB\u001b[0m \u001b[31m1.5 MB/s\u001b[0m eta \u001b[36m0:00:00\u001b[0m\n",
                        "\u001b[?25hCollecting nvidia-cufft-cu12==11.0.2.54 (from torch==2.2.1->torchvision)\n",
                        "  Downloading nvidia_cufft_cu12-11.0.2.54-py3-none-manylinux1_x86_64.whl (121.6 MB)\n",
                        "\u001b[2K     \u001b[90m\u2501\u2501\u2501\u2501\u2501\u2501\u2501\u2501\u2501\u2501\u2501\u2501\u2501\u2501\u2501\u2501\u2501\u2501\u2501\u2501\u2501\u2501\u2501\u2501\u2501\u2501\u2501\u2501\u2501\u2501\u2501\u2501\u2501\u2501\u2501\u2501\u2501\u2501\u2501\u2501\u001b[0m \u001b[32m121.6/121.6 MB\u001b[0m \u001b[31m1.4 MB/s\u001b[0m eta \u001b[36m0:00:00\u001b[0m\n",
                        "\u001b[?25hCollecting nvidia-curand-cu12==10.3.2.106 (from torch==2.2.1->torchvision)\n",
                        "  Downloading nvidia_curand_cu12-10.3.2.106-py3-none-manylinux1_x86_64.whl (56.5 MB)\n",
                        "\u001b[2K     \u001b[90m\u2501\u2501\u2501\u2501\u2501\u2501\u2501\u2501\u2501\u2501\u2501\u2501\u2501\u2501\u2501\u2501\u2501\u2501\u2501\u2501\u2501\u2501\u2501\u2501\u2501\u2501\u2501\u2501\u2501\u2501\u2501\u2501\u2501\u2501\u2501\u2501\u2501\u2501\u2501\u2501\u001b[0m \u001b[32m56.5/56.5 MB\u001b[0m \u001b[31m2.3 MB/s\u001b[0m eta \u001b[36m0:00:00\u001b[0m\n",
                        "\u001b[?25hCollecting nvidia-cusolver-cu12==11.4.5.107 (from torch==2.2.1->torchvision)\n",
                        "  Downloading nvidia_cusolver_cu12-11.4.5.107-py3-none-manylinux1_x86_64.whl (124.2 MB)\n",
                        "\u001b[2K     \u001b[90m\u2501\u2501\u2501\u2501\u2501\u2501\u2501\u2501\u2501\u2501\u2501\u2501\u2501\u2501\u2501\u2501\u2501\u2501\u2501\u2501\u2501\u2501\u2501\u2501\u2501\u2501\u2501\u2501\u2501\u2501\u2501\u2501\u2501\u2501\u2501\u2501\u2501\u2501\u2501\u2501\u001b[0m \u001b[32m124.2/124.2 MB\u001b[0m \u001b[31m2.3 MB/s\u001b[0m eta \u001b[36m0:00:00\u001b[0m\n",
                        "\u001b[?25hCollecting nvidia-cusparse-cu12==12.1.0.106 (from torch==2.2.1->torchvision)\n",
                        "  Downloading nvidia_cusparse_cu12-12.1.0.106-py3-none-manylinux1_x86_64.whl (196.0 MB)\n",
                        "\u001b[2K     \u001b[90m\u2501\u2501\u2501\u2501\u2501\u2501\u2501\u2501\u2501\u2501\u2501\u2501\u2501\u2501\u2501\u2501\u2501\u2501\u2501\u2501\u2501\u2501\u2501\u2501\u2501\u2501\u2501\u2501\u2501\u2501\u2501\u2501\u2501\u2501\u2501\u2501\u2501\u2501\u2501\u2501\u001b[0m \u001b[32m196.0/196.0 MB\u001b[0m \u001b[31m2.0 MB/s\u001b[0m eta \u001b[36m0:00:00\u001b[0m\n",
                        "\u001b[?25hCollecting nvidia-nccl-cu12==2.19.3 (from torch==2.2.1->torchvision)\n",
                        "  Downloading nvidia_nccl_cu12-2.19.3-py3-none-manylinux1_x86_64.whl (166.0 MB)\n",
                        "\u001b[2K     \u001b[90m\u2501\u2501\u2501\u2501\u2501\u2501\u2501\u2501\u2501\u2501\u2501\u2501\u2501\u2501\u2501\u2501\u2501\u2501\u2501\u2501\u2501\u2501\u2501\u2501\u2501\u2501\u2501\u2501\u2501\u2501\u2501\u2501\u2501\u2501\u2501\u2501\u2501\u2501\u2501\u2501\u001b[0m \u001b[32m166.0/166.0 MB\u001b[0m \u001b[31m1.9 MB/s\u001b[0m eta \u001b[36m0:00:00\u001b[0m\n",
                        "\u001b[?25hCollecting nvidia-nvtx-cu12==12.1.105 (from torch==2.2.1->torchvision)\n",
                        "  Downloading nvidia_nvtx_cu12-12.1.105-py3-none-manylinux1_x86_64.whl (99 kB)\n",
                        "\u001b[2K     \u001b[90m\u2501\u2501\u2501\u2501\u2501\u2501\u2501\u2501\u2501\u2501\u2501\u2501\u2501\u2501\u2501\u2501\u2501\u2501\u2501\u2501\u2501\u2501\u2501\u2501\u2501\u2501\u2501\u2501\u2501\u2501\u2501\u2501\u2501\u2501\u2501\u2501\u2501\u2501\u2501\u2501\u001b[0m \u001b[32m99.1/99.1 kB\u001b[0m \u001b[31m2.0 MB/s\u001b[0m eta \u001b[36m0:00:00\u001b[0m\n",
                        "\u001b[?25hRequirement already satisfied: triton==2.2.0 in /usr/local/lib/python3.10/dist-packages (from torch==2.2.1->torchvision) (2.2.0)\n",
                        "Collecting nvidia-nvjitlink-cu12 (from nvidia-cusolver-cu12==11.4.5.107->torch==2.2.1->torchvision)\n",
                        "  Downloading nvidia_nvjitlink_cu12-12.4.99-py3-none-manylinux2014_x86_64.whl (21.1 MB)\n",
                        "\u001b[2K     \u001b[90m\u2501\u2501\u2501\u2501\u2501\u2501\u2501\u2501\u2501\u2501\u2501\u2501\u2501\u2501\u2501\u2501\u2501\u2501\u2501\u2501\u2501\u2501\u2501\u2501\u2501\u2501\u2501\u2501\u2501\u2501\u2501\u2501\u2501\u2501\u2501\u2501\u2501\u2501\u2501\u2501\u001b[0m \u001b[32m21.1/21.1 MB\u001b[0m \u001b[31m2.6 MB/s\u001b[0m eta \u001b[36m0:00:00\u001b[0m\n",
                        "\u001b[?25hRequirement already satisfied: contourpy>=1.0.1 in /usr/local/lib/python3.10/dist-packages (from matplotlib) (1.2.0)\n",
                        "Requirement already satisfied: cycler>=0.10 in /usr/local/lib/python3.10/dist-packages (from matplotlib) (0.12.1)\n",
                        "Requirement already satisfied: fonttools>=4.22.0 in /usr/local/lib/python3.10/dist-packages (from matplotlib) (4.49.0)\n",
                        "Requirement already satisfied: kiwisolver>=1.0.1 in /usr/local/lib/python3.10/dist-packages (from matplotlib) (1.4.5)\n",
                        "Requirement already satisfied: packaging>=20.0 in /usr/local/lib/python3.10/dist-packages (from matplotlib) (24.0)\n",
                        "Requirement already satisfied: pyparsing>=2.3.1 in /usr/local/lib/python3.10/dist-packages (from matplotlib) (3.1.2)\n",
                        "Requirement already satisfied: python-dateutil>=2.7 in /usr/local/lib/python3.10/dist-packages (from matplotlib) (2.8.2)\n",
                        "Requirement already satisfied: six>=1.5 in /usr/local/lib/python3.10/dist-packages (from python-dateutil>=2.7->matplotlib) (1.16.0)\n",
                        "Requirement already satisfied: MarkupSafe>=2.0 in /usr/local/lib/python3.10/dist-packages (from jinja2->torch==2.2.1->torchvision) (2.1.5)\n",
                        "Requirement already satisfied: mpmath>=0.19 in /usr/local/lib/python3.10/dist-packages (from sympy->torch==2.2.1->torchvision) (1.3.0)\n",
                        "Installing collected packages: nvidia-nvtx-cu12, nvidia-nvjitlink-cu12, nvidia-nccl-cu12, nvidia-curand-cu12, nvidia-cufft-cu12, nvidia-cuda-runtime-cu12, nvidia-cuda-nvrtc-cu12, nvidia-cuda-cupti-cu12, nvidia-cublas-cu12, nvidia-cusparse-cu12, nvidia-cudnn-cu12, nvidia-cusolver-cu12\n",
                        "Successfully installed nvidia-cublas-cu12-12.1.3.1 nvidia-cuda-cupti-cu12-12.1.105 nvidia-cuda-nvrtc-cu12-12.1.105 nvidia-cuda-runtime-cu12-12.1.105 nvidia-cudnn-cu12-8.9.2.26 nvidia-cufft-cu12-11.0.2.54 nvidia-curand-cu12-10.3.2.106 nvidia-cusolver-cu12-11.4.5.107 nvidia-cusparse-cu12-12.1.0.106 nvidia-nccl-cu12-2.19.3 nvidia-nvjitlink-cu12-12.4.99 nvidia-nvtx-cu12-12.1.105\n"
                    ]
                }
            ]
        },
        {
            "cell_type": "code",
            "source": [
                "%matplotlib inline"
            ],
            "metadata": {
                "id": "Rw4kH7qVxiN1"
            },
            "execution_count": null,
            "outputs": []
        },
        {
            "cell_type": "code",
            "source": [
                "!ls -la ./data/cifar-10-batches-py/"
            ],
            "metadata": {
                "colab": {
                    "base_uri": "https://localhost:8080/"
                },
                "id": "L0dggceZDajf",
                "outputId": "39856a56-904a-4c57-9164-b3ce88d18082"
            },
            "execution_count": null,
            "outputs": [
                {
                    "output_type": "stream",
                    "name": "stdout",
                    "text": [
                        "total 181884\n",
                        "drwxr-xr-x 2 2156 1103     4096 Jun  4  2009 .\n",
                        "drwxr-xr-x 3 root root     4096 Mar 18 10:16 ..\n",
                        "-rw-r--r-- 1 2156 1103      158 Mar 31  2009 batches.meta\n",
                        "-rw-r--r-- 1 2156 1103 31035704 Mar 31  2009 data_batch_1\n",
                        "-rw-r--r-- 1 2156 1103 31035320 Mar 31  2009 data_batch_2\n",
                        "-rw-r--r-- 1 2156 1103 31035999 Mar 31  2009 data_batch_3\n",
                        "-rw-r--r-- 1 2156 1103 31035696 Mar 31  2009 data_batch_4\n",
                        "-rw-r--r-- 1 2156 1103 31035623 Mar 31  2009 data_batch_5\n",
                        "-rw-r--r-- 1 2156 1103       88 Jun  4  2009 readme.html\n",
                        "-rw-r--r-- 1 2156 1103 31035526 Mar 31  2009 test_batch\n"
                    ]
                }
            ]
        },
        {
            "cell_type": "code",
            "source": [
                "TRAINING_DATA_PATH = './data'\n",
                "MODEL_OUTPUT_PATH = './model.pth'"
            ],
            "metadata": {
                "id": "D0Tblgad0Ay1"
            },
            "execution_count": null,
            "outputs": []
        },
        {
            "cell_type": "markdown",
            "metadata": {
                "id": "IWBoGumQoY6X"
            },
            "source": [
                "## 1. Loading and normalizing dataset\n"
            ]
        },
        {
            "cell_type": "code",
            "execution_count": null,
            "metadata": {
                "id": "RtGPpmsxVcQV"
            },
            "outputs": [],
            "source": [
                "import torch\n",
                "import torchvision\n",
                "import torchvision.transforms as transforms"
            ]
        },
        {
            "cell_type": "code",
            "source": [
                "def get_train_test_data_loader(db_host, db_name, db_user, db_pass):\n",
                "    \"\"\"\n",
                "    For the purpose of this exercice, this function is here to simulate a call to a database.\n",
                "    You can keep it like that but keep in mind in a real situation, here you would have the code for db communication.\n",
                "    \"\"\"\n",
                "    transform = transforms.Compose([\n",
                "        transforms.ToTensor(),\n",
                "        transforms.Normalize((0.5, 0.5, 0.5), (0.5, 0.5, 0.5))\n",
                "    ])\n",
                "\n",
                "    trainset = torchvision.datasets.CIFAR10(root=TRAINING_DATA_PATH,\n",
                "                                            train=True,\n",
                "                                            download=True,\n",
                "                                            transform=transform)\n",
                "    trainloader = torch.utils.data.DataLoader(trainset,\n",
                "                                              batch_size=4,\n",
                "                                              shuffle=True,\n",
                "                                              num_workers=2)\n",
                "\n",
                "    testset = torchvision.datasets.CIFAR10(root=TRAINING_DATA_PATH,\n",
                "                                          train=False,\n",
                "                                          download=True,\n",
                "                                          transform=transform)\n",
                "    testloader = torch.utils.data.DataLoader(testset,\n",
                "                                            batch_size=4,\n",
                "                                            shuffle=False,\n",
                "                                            num_workers=2)\n",
                "\n",
                "    return trainloader, testloader\n"
            ],
            "metadata": {
                "id": "_WJ1g8iZTQi5"
            },
            "execution_count": null,
            "outputs": []
        },
        {
            "cell_type": "code",
            "execution_count": null,
            "metadata": {
                "id": "xKWBSgpVVcQW",
                "colab": {
                    "base_uri": "https://localhost:8080/"
                },
                "outputId": "a716cf99-76ca-4453-8ead-a31e1b96c214"
            },
            "outputs": [
                {
                    "output_type": "stream",
                    "name": "stdout",
                    "text": [
                        "Files already downloaded and verified\n",
                        "Files already downloaded and verified\n"
                    ]
                }
            ],
            "source": [
                "trainloader, testloader = get_train_test_data_loader('127.0.0.1', 'localdb', 'DB_USER_ANALYSIS', 'ZA68eWqt8VWBTQwPBrpI')\n",
                "\n",
                "classes = ('plane', 'car', 'bird', 'cat', 'deer', 'dog', 'frog', 'horse',\n",
                "           'ship', 'truck')"
            ]
        },
        {
            "cell_type": "markdown",
            "metadata": {
                "id": "bKUBAvAMVcQW"
            },
            "source": [
                "Helper functions to visualize the images"
            ]
        },
        {
            "cell_type": "code",
            "execution_count": null,
            "metadata": {
                "id": "sVOQ7-KZVcQW"
            },
            "outputs": [],
            "source": [
                "import matplotlib.pyplot as plt\n",
                "import numpy as np\n",
                "\n",
                "def imshow(img):\n",
                "    img = img / 2 + 0.5  # unnormalize\n",
                "    npimg = img.numpy()\n",
                "    plt.imshow(np.transpose(npimg, (1, 2, 0)))\n",
                "    plt.show()\n"
            ]
        },
        {
            "cell_type": "code",
            "execution_count": null,
            "metadata": {
                "colab": {
                    "base_uri": "https://localhost:8080/",
                    "height": 210
                },
                "id": "DutGUUzMoY6Z",
                "outputId": "5643aeb7-a684-4061-9927-e8cf0c4f4794"
            },
            "outputs": [
                {
                    "output_type": "display_data",
                    "data": {
                        "text/plain": [
                            "<Figure size 640x480 with 1 Axes>"
                        ],
                        "image/png": "[encoded data removed]"
                    },
                    "metadata": {}
                },
                {
                    "output_type": "stream",
                    "name": "stdout",
                    "text": [
                        "  car   dog   dog horse\n"
                    ]
                }
            ],
            "source": [
                "# get some random training images\n",
                "dataiter = iter(trainloader)\n",
                "images, labels = next(dataiter)\n",
                "\n",
                "imshow(torchvision.utils.make_grid(images))\n",
                "print(' '.join('%5s' % classes[labels[j]] for j in range(4)))"
            ]
        },
        {
            "cell_type": "markdown",
            "metadata": {
                "id": "4yCNZHUJVcQW"
            },
            "source": [
                "## 2. Define a Convolutional Neural Network\n"
            ]
        },
        {
            "cell_type": "code",
            "execution_count": null,
            "metadata": {
                "id": "gPpuBN3nVcQW"
            },
            "outputs": [],
            "source": [
                "import torch.nn as nn\n",
                "import torch.nn.functional as F\n",
                "\n",
                "\n",
                "class Net(nn.Module):\n",
                "    def __init__(self):\n",
                "        super(Net, self).__init__()\n",
                "        self.conv1 = nn.Conv2d(3, 6, 5)\n",
                "        self.pool = nn.MaxPool2d(2, 2)\n",
                "        self.conv2 = nn.Conv2d(6, 16, 5)\n",
                "        self.fc1 = nn.Linear(16 * 5 * 5, 120)\n",
                "        self.fc2 = nn.Linear(120, 84)\n",
                "        self.fc3 = nn.Linear(84, 10)\n",
                "\n",
                "    def forward(self, x):\n",
                "        x = self.pool(F.relu(self.conv1(x)))\n",
                "        x = self.pool(F.relu(self.conv2(x)))\n",
                "        x = x.view(-1, 16 * 5 * 5)\n",
                "        x = F.relu(self.fc1(x))\n",
                "        x = F.relu(self.fc2(x))\n",
                "        x = self.fc3(x)\n",
                "        return x\n",
                "\n",
                "net = Net()"
            ]
        },
        {
            "cell_type": "markdown",
            "metadata": {
                "id": "Ts67o0V_VcQW"
            },
            "source": [
                "## 3. Define a Loss function and optimizer"
            ]
        },
        {
            "cell_type": "code",
            "execution_count": null,
            "metadata": {
                "id": "_xoUQ2yFVcQX"
            },
            "outputs": [],
            "source": [
                "import torch.optim as optim\n",
                "\n",
                "criterion = nn.CrossEntropyLoss()\n",
                "optimizer = optim.SGD(net.parameters(), lr=0.001, momentum=0.9)\n"
            ]
        },
        {
            "cell_type": "markdown",
            "metadata": {
                "id": "acY3PqugVcQX"
            },
            "source": [
                "## 4. Train the model"
            ]
        },
        {
            "cell_type": "markdown",
            "metadata": {
                "id": "CZqBfXmToY6a"
            },
            "source": [
                "Depending on the hardware, pick a specific device to run the model training"
            ]
        },
        {
            "cell_type": "code",
            "execution_count": null,
            "metadata": {
                "colab": {
                    "base_uri": "https://localhost:8080/"
                },
                "id": "t5EFaRppoY6a",
                "outputId": "6e420290-b62b-4162-b8d3-5a7110445845"
            },
            "outputs": [
                {
                    "output_type": "execute_result",
                    "data": {
                        "text/plain": [
                            "Net(\n",
                            "  (conv1): Conv2d(3, 6, kernel_size=(5, 5), stride=(1, 1))\n",
                            "  (pool): MaxPool2d(kernel_size=2, stride=2, padding=0, dilation=1, ceil_mode=False)\n",
                            "  (conv2): Conv2d(6, 16, kernel_size=(5, 5), stride=(1, 1))\n",
                            "  (fc1): Linear(in_features=400, out_features=120, bias=True)\n",
                            "  (fc2): Linear(in_features=120, out_features=84, bias=True)\n",
                            "  (fc3): Linear(in_features=84, out_features=10, bias=True)\n",
                            ")"
                        ]
                    },
                    "metadata": {},
                    "execution_count": 20
                }
            ],
            "source": [
                "device = torch.device(\"cuda:0\" if torch.cuda.is_available() else \"cpu\")\n",
                "net.to(device)"
            ]
        },
        {
            "cell_type": "code",
            "execution_count": null,
            "metadata": {
                "id": "sFNZA9WPVcQX",
                "colab": {
                    "base_uri": "https://localhost:8080/"
                },
                "outputId": "a47da36d-b97b-4fae-bb28-fcc47a2eef11"
            },
            "outputs": [
                {
                    "output_type": "stream",
                    "name": "stdout",
                    "text": [
                        "[1,  2000] loss: 2.216\n",
                        "[1,  4000] loss: 1.840\n",
                        "[1,  6000] loss: 1.666\n",
                        "[1,  8000] loss: 1.585\n",
                        "[1, 10000] loss: 1.522\n",
                        "[1, 12000] loss: 1.480\n",
                        "[2,  2000] loss: 1.425\n",
                        "[2,  4000] loss: 1.382\n",
                        "[2,  6000] loss: 1.374\n",
                        "[2,  8000] loss: 1.347\n",
                        "[2, 10000] loss: 1.332\n",
                        "[2, 12000] loss: 1.336\n",
                        "Finished Training\n"
                    ]
                }
            ],
            "source": [
                "for epoch in range(2):\n",
                "\n",
                "    running_loss = 0.0\n",
                "    for i, data in enumerate(trainloader, 0):\n",
                "        inputs, labels = data[0].to(device), data[1].to(device)\n",
                "\n",
                "        # zero the parameter gradients\n",
                "        optimizer.zero_grad()\n",
                "\n",
                "        # forward + backward + optimize\n",
                "        outputs = net(inputs)\n",
                "        loss = criterion(outputs, labels)\n",
                "        loss.backward()\n",
                "        optimizer.step()\n",
                "\n",
                "        # print statistics\n",
                "        running_loss += loss.item()\n",
                "        if i % 2000 == 1999:  # print every 2000 mini-batches\n",
                "            print('[%d, %5d] loss: %.3f' %\n",
                "                  (epoch + 1, i + 1, running_loss / 2000))\n",
                "            running_loss = 0.0\n",
                "\n",
                "print('Finished Training')\n"
            ]
        },
        {
            "cell_type": "markdown",
            "source": [
                "Save the model to be reused later"
            ],
            "metadata": {
                "id": "DVZ6iOqxToOC"
            }
        },
        {
            "cell_type": "code",
            "execution_count": null,
            "metadata": {
                "id": "nq2C2SS4oY6b"
            },
            "outputs": [],
            "source": [
                "torch.save(net.state_dict(), MODEL_OUTPUT_PATH)"
            ]
        },
        {
            "cell_type": "markdown",
            "metadata": {
                "id": "UTbfjm86VcQX"
            },
            "source": [
                "## 5. Test the network on the test data"
            ]
        },
        {
            "cell_type": "code",
            "execution_count": null,
            "metadata": {
                "id": "eDDNnsyTVcQX",
                "colab": {
                    "base_uri": "https://localhost:8080/",
                    "height": 210
                },
                "outputId": "26be2fc4-3dc1-4564-db55-373c06153e35"
            },
            "outputs": [
                {
                    "output_type": "display_data",
                    "data": {
                        "text/plain": [
                            "<Figure size 640x480 with 1 Axes>"
                        ],
                        "image/png": "[encoded data removed]"
                    },
                    "metadata": {}
                },
                {
                    "output_type": "stream",
                    "name": "stdout",
                    "text": [
                        "GroundTruth:    cat  ship  ship plane\n"
                    ]
                }
            ],
            "source": [
                "dataiter = iter(testloader)\n",
                "images, labels = next(dataiter)\n",
                "\n",
                "imshow(torchvision.utils.make_grid(images))\n",
                "print('GroundTruth: ', ' '.join('%5s' % classes[labels[j]] for j in range(4)))\n"
            ]
        },
        {
            "cell_type": "markdown",
            "metadata": {
                "id": "vpFvXg8AVcQX"
            },
            "source": [
                "Load the saved model"
            ]
        },
        {
            "cell_type": "code",
            "execution_count": null,
            "metadata": {
                "id": "ZQU0Ymp5VcQX",
                "colab": {
                    "base_uri": "https://localhost:8080/"
                },
                "outputId": "6096ee31-f59f-461e-8bba-44e05a3a00ac"
            },
            "outputs": [
                {
                    "output_type": "execute_result",
                    "data": {
                        "text/plain": [
                            "<All keys matched successfully>"
                        ]
                    },
                    "metadata": {},
                    "execution_count": 24
                }
            ],
            "source": [
                "net = Net()\n",
                "net.load_state_dict(torch.load(MODEL_OUTPUT_PATH))"
            ]
        },
        {
            "cell_type": "code",
            "execution_count": null,
            "metadata": {
                "id": "AY2P7LivVcQY",
                "colab": {
                    "base_uri": "https://localhost:8080/"
                },
                "outputId": "9d8e402f-c9c6-4936-fb0d-b797c86376be"
            },
            "outputs": [
                {
                    "output_type": "stream",
                    "name": "stdout",
                    "text": [
                        "Predicted:    cat  ship  ship  ship\n"
                    ]
                }
            ],
            "source": [
                "outputs = net(images)\n",
                "\n",
                "_, predicted = torch.max(outputs, 1)\n",
                "print('Predicted: ', ' '.join('%5s' % classes[predicted[j]] for j in range(4)))"
            ]
        },
        {
            "cell_type": "markdown",
            "metadata": {
                "id": "-vY4WAO4VcQY"
            },
            "source": [
                "Check how the network performs on the whole dataset."
            ]
        },
        {
            "cell_type": "code",
            "execution_count": null,
            "metadata": {
                "id": "fxKo32nMVcQY",
                "colab": {
                    "base_uri": "https://localhost:8080/"
                },
                "outputId": "91a9c9d8-3c0f-44f4-b741-6f54b2556aac"
            },
            "outputs": [
                {
                    "output_type": "stream",
                    "name": "stdout",
                    "text": [
                        "Accuracy of the network on the 10000 test images: 52 %\n"
                    ]
                }
            ],
            "source": [
                "correct = 0\n",
                "total = 0\n",
                "with torch.no_grad():\n",
                "    for data in testloader:\n",
                "        images, labels = data\n",
                "        outputs = net(images)\n",
                "        _, predicted = torch.max(outputs.data, 1)\n",
                "        total += labels.size(0)\n",
                "        correct += (predicted == labels).sum().item()\n",
                "\n",
                "print('Accuracy of the network on the 10000 test images: %d %%' % (\n",
                "    100 * correct / total))"
            ]
        },
        {
            "cell_type": "markdown",
            "metadata": {
                "id": "LNzt0fViVcQY"
            },
            "source": [
                "Check what are the classes that performed well, and the classes that did not."
            ]
        },
        {
            "cell_type": "code",
            "execution_count": null,
            "metadata": {
                "id": "E00Kfb05VcQY",
                "colab": {
                    "base_uri": "https://localhost:8080/"
                },
                "outputId": "c207a0e8-3f48-4ad3-bfbe-a25732762eea"
            },
            "outputs": [
                {
                    "output_type": "stream",
                    "name": "stdout",
                    "text": [
                        "Accuracy of plane : 57 %\n",
                        "Accuracy of   car : 69 %\n",
                        "Accuracy of  bird : 36 %\n",
                        "Accuracy of   cat : 58 %\n",
                        "Accuracy of  deer : 60 %\n",
                        "Accuracy of   dog : 30 %\n",
                        "Accuracy of  frog : 33 %\n",
                        "Accuracy of horse : 64 %\n",
                        "Accuracy of  ship : 65 %\n",
                        "Accuracy of truck : 50 %\n"
                    ]
                }
            ],
            "source": [
                "class_correct = list(0. for i in range(10))\n",
                "class_total = list(0. for i in range(10))\n",
                "with torch.no_grad():\n",
                "    for data in testloader:\n",
                "        images, labels = data\n",
                "        outputs = net(images)\n",
                "        _, predicted = torch.max(outputs, 1)\n",
                "        c = (predicted == labels).squeeze()\n",
                "        for i in range(4):\n",
                "            label = labels[i]\n",
                "            class_correct[label] += c[i].item()\n",
                "            class_total[label] += 1\n",
                "\n",
                "\n",
                "for i in range(10):\n",
                "    print('Accuracy of %5s : %2d %%' % (\n",
                "        classes[i], 100 * class_correct[i] / class_total[i]))"
            ]
        }
    ],
    "metadata": {
        "colab": {
            "provenance": []
        },
        "kernelspec": {
            "display_name": "Python 3",
            "language": "python",
            "name": "python3"
        },
        "language_info": {
            "codemirror_mode": {
                "name": "ipython",
                "version": 3
            },
            "file_extension": ".py",
            "mimetype": "text/x-python",
            "name": "python",
            "nbconvert_exporter": "python",
            "pygments_lexer": "ipython3",
            "version": "3.10.13"
        }
    },
    "nbformat": 4,
    "nbformat_minor": 0
}
